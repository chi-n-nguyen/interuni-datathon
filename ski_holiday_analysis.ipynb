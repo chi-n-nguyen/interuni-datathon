{
 "cells": [
  {
   "cell_type": "markdown",
   "metadata": {},
   "source": [
    "# Ultimate Ski Holiday 2026 - Data Analysis\n",
    "## Inter-Uni Datathon 2025 - Allianz Challenge\n",
    "\n",
    "**Objective**: Identify the optimal week and ski resort for the ultimate ski holiday in 2026\n",
    "\n",
    "**Key Considerations**:\n",
    "- Visitor numbers and crowd levels\n",
    "- Weather patterns and snow conditions\n",
    "- Prices and value for money\n",
    "- Unique features and accessibility of each resort"
   ]
  },
  {
   "cell_type": "markdown",
   "metadata": {},
   "source": [
    "## 1. Setup and Data Loading"
   ]
  },
  {
   "cell_type": "code",
   "execution_count": null,
   "metadata": {},
   "outputs": [],
   "source": [
    "# Import essential libraries\n",
    "import pandas as pd\n",
    "import numpy as np\n",
    "import matplotlib.pyplot as plt\n",
    "import seaborn as sns\n",
    "import plotly.express as px\n",
    "import plotly.graph_objects as go\n",
    "from plotly.subplots import make_subplots\n",
    "import warnings\n",
    "warnings.filterwarnings('ignore')\n",
    "\n",
    "# Set style for better looking plots\n",
    "plt.style.use('seaborn-v0_8')\n",
    "sns.set_palette(\"husl\")\n",
    "\n",
    "print(\"Libraries imported successfully!\")"
   ]
  },
  {
   "cell_type": "code",
   "execution_count": null,
   "metadata": {},
   "outputs": [],
   "source": [
    "# Load the datasets\n",
    "file_path = \"2025 Allianz Datathon Dataset.xlsx\"\n",
    "\n",
    "# Load all sheets\n",
    "visitation_data = pd.read_excel(file_path, sheet_name=\"Visitation Data\")\n",
    "climate_data = pd.read_excel(file_path, sheet_name=\"Climate Data\")\n",
    "\n",
    "print(\"Dataset loaded successfully!\")\n",
    "print(f\"Visitation data shape: {visitation_data.shape}\")\n",
    "print(f\"Climate data shape: {climate_data.shape}\")"
   ]
  },
  {
   "cell_type": "markdown",
   "metadata": {},
   "source": [
    "## 2. Initial Data Exploration"
   ]
  },
  {
   "cell_type": "code",
   "execution_count": null,
   "metadata": {},
   "outputs": [],
   "source": [
    "# Display basic information about visitation data\n",
    "print(\"VISITATION DATA OVERVIEW:\")\n",
    "print(\"=\" * 40)\n",
    "print(visitation_data.head())\n",
    "print(\"\\nData Info:\")\n",
    "print(visitation_data.info())\n",
    "print(\"\\nSummary Statistics:\")\n",
    "print(visitation_data.describe())"
   ]
  },
  {
   "cell_type": "code",
   "execution_count": null,
   "metadata": {},
   "outputs": [],
   "source": [
    "# Display basic information about climate data\n",
    "print(\"CLIMATE DATA OVERVIEW:\")\n",
    "print(\"=\" * 40)\n",
    "print(climate_data.head())\n",
    "print(\"\\nData Info:\")\n",
    "print(climate_data.info())\n",
    "print(\"\\nSummary Statistics:\")\n",
    "print(climate_data.describe())"
   ]
  },
  {
   "cell_type": "code",
   "execution_count": null,
   "metadata": {},
   "outputs": [],
   "source": [
    "# Check for missing values\n",
    "print(\"MISSING VALUES ANALYSIS:\")\n",
    "print(\"=\" * 40)\n",
    "print(\"\\nVisitation Data Missing Values:\")\n",
    "print(visitation_data.isnull().sum())\n",
    "print(\"\\nClimate Data Missing Values:\")\n",
    "print(climate_data.isnull().sum())"
   ]
  },
  {
   "cell_type": "markdown",
   "metadata": {},
   "source": [
    "## 3. Data Cleaning and Preparation"
   ]
  },
  {
   "cell_type": "code",
   "execution_count": null,
   "metadata": {},
   "outputs": [],
   "source": [
    "# Get resort names from visitation data (excluding Year and Week columns)\n",
    "resort_columns = [col for col in visitation_data.columns if col not in ['Year', 'Week']]\n",
    "print(\"Available resorts:\")\n",
    "for i, resort in enumerate(resort_columns, 1):\n",
    "    print(f\"{i}. {resort}\")\n",
    "\n",
    "print(f\"\\nTotal resorts: {len(resort_columns)}\")"
   ]
  },
  {
   "cell_type": "code",
   "execution_count": null,
   "metadata": {},
   "outputs": [],
   "source": [
    "# Create a mapping of weather stations to resorts based on README information\n",
    "weather_station_mapping = {\n",
    "    71032: 'Thredbo',  # Thredbo AWS\n",
    "    71075: 'Perisher',  # Perisher AWS - also covers Charlotte Pass\n",
    "    72161: 'Charlotte Pass',  # Cabramurra SMHEA AWS - close to Charlotte Pass\n",
    "    83024: 'Mt. Buller',  # Mount Buller - also covers Mt. Stirling\n",
    "    83084: 'Falls Creek',  # Falls Creek\n",
    "    83085: 'Mt. Hotham',  # Mount Hotham\n",
    "    85291: 'Mt. Baw Baw'   # Mount Baw Baw\n",
    "}\n",
    "\n",
    "# Add resort names to climate data\n",
    "climate_data['Resort'] = climate_data['Bureau of Meteorology station number'].map(weather_station_mapping)\n",
    "\n",
    "print(\"Weather station to resort mapping:\")\n",
    "for station, resort in weather_station_mapping.items():\n",
    "    count = climate_data[climate_data['Bureau of Meteorology station number'] == station].shape[0]\n",
    "    print(f\"Station {station} -> {resort}: {count} records\")"
   ]
  },
  {
   "cell_type": "code",
   "execution_count": null,
   "metadata": {},
   "outputs": [],
   "source": [
    "# Create date column for climate data\n",
    "climate_data['Date'] = pd.to_datetime(climate_data[['Year', 'Month', 'Day']])\n",
    "\n",
    "print(\"Climate data date range:\")\n",
    "print(f\"From: {climate_data['Date'].min()}\")\n",
    "print(f\"To: {climate_data['Date'].max()}\")\n",
    "print(f\"Total days: {climate_data['Date'].nunique()}\")"
   ]
  },
  {
   "cell_type": "markdown",
   "metadata": {},
   "source": [
    "## 4. Ski Season Week Mapping"
   ]
  },
  {
   "cell_type": "code",
   "execution_count": null,
   "metadata": {},
   "outputs": [],
   "source": [
    "# Define ski season dates for each year (based on 2024 example from README)\n",
    "# Week 1 starts around early June, Week 15 ends in mid September\n",
    "\n",
    "def get_ski_season_dates(year):\n",
    "    \"\"\"Generate ski season dates for a given year\"\"\"\n",
    "    # Approximate ski season: early June to mid September (15 weeks)\n",
    "    # This is based on the 2024 dates provided in README\n",
    "    import datetime\n",
    "    \n",
    "    # Start around first week of June\n",
    "    start_date = datetime.date(year, 6, 8)  # Approximate start\n",
    "    \n",
    "    week_dates = {}\n",
    "    for week in range(1, 16):\n",
    "        week_start = start_date + datetime.timedelta(weeks=week-1)\n",
    "        week_end = week_start + datetime.timedelta(days=6)\n",
    "        week_dates[week] = {'start': week_start, 'end': week_end}\n",
    "    \n",
    "    return week_dates\n",
    "\n",
    "# Generate ski season dates for all years in our data\n",
    "years_in_data = sorted(visitation_data['Year'].unique())\n",
    "ski_seasons = {}\n",
    "\n",
    "for year in years_in_data:\n",
    "    ski_seasons[year] = get_ski_season_dates(year)\n",
    "\n",
    "print(\"Ski season mapping created for years:\", years_in_data)\n",
    "print(\"\\nExample - 2024 Week 1:\", ski_seasons[2024][1])\n",
    "print(\"Example - 2024 Week 15:\", ski_seasons[2024][15])"
   ]
  },
  {
   "cell_type": "markdown",
   "metadata": {},
   "source": [
    "## 5. Next Steps Preview\n",
    "\n",
    "The following analysis sections will be implemented:\n",
    "\n",
    "### Phase 2: Core Analysis\n",
    "- Weather-Visitation Correlation Analysis\n",
    "- Peak vs Off-Peak Week Identification  \n",
    "- Resort Performance Comparison\n",
    "- Historical Trend Analysis (2014-2024)\n",
    "\n",
    "### Phase 3: External Data Integration\n",
    "- Flight price research and integration\n",
    "- Accommodation cost analysis\n",
    "- Resort pricing and amenities\n",
    "- Special events and school holidays\n",
    "\n",
    "### Phase 4: 2026 Predictions\n",
    "- Weather forecasting for 2026 ski season\n",
    "- Visitor demand predictions\n",
    "- Price trend projections\n",
    "\n",
    "### Phase 5: Recommendation Engine\n",
    "- Multi-criteria decision analysis\n",
    "- Optimal week and resort selection\n",
    "- Trade-off analysis and sensitivity testing"
   ]
  },
  {
   "cell_type": "code",
   "execution_count": null,
   "metadata": {},
   "outputs": [],
   "source": [
    "# Save cleaned data for next phase\n",
    "print(\"Data preparation completed!\")\n",
    "print(\"\\nDatasets ready for analysis:\")\n",
    "print(f\"- Visitation data: {visitation_data.shape[0]} records across {len(resort_columns)} resorts\")\n",
    "print(f\"- Climate data: {climate_data.shape[0]} records from {climate_data['Resort'].nunique()} weather stations\")\n",
    "print(f\"- Time period: {visitation_data['Year'].min()}-{visitation_data['Year'].max()} (visitation)\")\n",
    "print(f\"- Climate period: {climate_data['Year'].min()}-{climate_data['Year'].max()} (weather)\")"
   ]
  }
 ],
 "metadata": {
  "kernelspec": {
   "display_name": "Python 3",
   "language": "python",
   "name": "python3"
  },
  "language_info": {
   "codemirror_mode": {
    "name": "ipython",
    "version": 3
   },
   "file_extension": ".py",
   "mimetype": "text/x-python",
   "name": "python",
   "nbconvert_exporter": "python",
   "pygments_lexer": "ipython3",
   "version": "3.8.5"
  }
 },
 "nbformat": 4,
 "nbformat_minor": 4
}